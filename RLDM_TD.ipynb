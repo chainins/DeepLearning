{
 "cells": [
  {
   "cell_type": "markdown",
   "metadata": {
    "collapsed": true,
    "pycharm": {
     "name": "#%% md\n"
    }
   },
   "source": [
    "#### Reinforcement Learning and Decision Making &nbsp;&nbsp;&nbsp;&nbsp;&nbsp;&nbsp;&nbsp;&nbsp;&nbsp;&nbsp; &nbsp;&nbsp;&nbsp;&nbsp;&nbsp;&nbsp;&nbsp;&nbsp;&nbsp;&nbsp;&nbsp;&nbsp;&nbsp;&nbsp;&nbsp;&nbsp;&nbsp;&nbsp;&nbsp;&nbsp;&nbsp;&nbsp;&nbsp;&nbsp;&nbsp;&nbsp;&nbsp;&nbsp;&nbsp;&nbsp;&nbsp;&nbsp;&nbsp;&nbsp;&nbsp;&nbsp;&nbsp;&nbsp;&nbsp;&nbsp;&nbsp;&nbsp;&nbsp;&nbsp;&nbsp;&nbsp;&nbsp;&nbsp;&nbsp;&nbsp;&nbsp;&nbsp;&nbsp;&nbsp;&nbsp;&nbsp;&nbsp;&nbsp;&nbsp;&nbsp;&nbsp;&nbsp;&nbsp;&nbsp;&nbsp;&nbsp;&nbsp;&nbsp;&nbsp;&nbsp;&nbsp;&nbsp;&nbsp;&nbsp;&nbsp;&nbsp;&nbsp;&nbsp;&nbsp;\n",
    "# &nbsp;&nbsp;&nbsp;&nbsp;&nbsp;&nbsp;&nbsp;&nbsp;&nbsp;&nbsp; &nbsp;&nbsp;&nbsp;&nbsp;&nbsp;&nbsp;&nbsp;&nbsp;&nbsp;&nbsp;&nbsp;&nbsp;&nbsp;&nbsp;&nbsp;&nbsp;&nbsp;&nbsp;&nbsp;&nbsp;&nbsp;&nbsp;&nbsp;&nbsp;&nbsp;&nbsp;&nbsp;&nbsp;&nbsp;&nbsp;&nbsp;&nbsp;The $\\lambda$ Return"
   ]
  },
  {
   "cell_type": "markdown",
   "metadata": {},
   "source": [
    "## Description\n",
    "\n",
    "Given an MDP and a particular time step $t$ of a task (continuing or\n",
    "episodic), the $\\lambda$-return, $G_t^\\lambda$, $0\\leq\\lambda\\leq 1$, is\n",
    "a weighted combination of the $n$-step returns $G_{t:t+n}$, $n \\geq 1$:\n",
    "\n",
    "$${G_t^\\lambda = \\sum\\limits_{n=1}^\\infty(1-\\lambda)\\lambda^{n-1}G_{t:t+n}.}$$\n",
    "\n",
    "While the $n$-step return $G_{t:t+n}$ can be viewed as the target of\n",
    "an $n$-step TD update rule, the $\\lambda$-return can be viewed as the\n",
    "target of the update rule for the TD$(\\lambda)$ prediction algorithm.\n",
    "\n",
    "Consider the Markov reward process described by the following state\n",
    "diagram and assume the agent is in state $0$ at time $t$ (also assume\n",
    "the discount rate is $\\gamma=1$). A Markov reward process can be thought of as\n",
    "an MDP with only one action possible from each state (denoted as action $0$ in\n",
    "the figure below).\n",
    "\n",
    "![image](https://d1b10bmlvqabco.cloudfront.net/paste/jqmfo7d3watba/9e6fd83672f880704b8418728297fc077786c8907d87fec631601da9ff4c85ef/hw2.png)\n",
    "\n",
    "## Procedure\n",
    "\n",
    "-   You will implement your solution using the `solve()` method\n",
    "    in the code below.\n",
    "    \n",
    "-   You will be given `p`, the probability of transitioning from state\n",
    "    $0$ to state $1$, `V`, the estimate of the value function at time\n",
    "    $t$, represented as a vector\n",
    "    $[V(0), V(1), V(2), V(3), V(4), V(5), V(6)]$, and `rewards`, a\n",
    "    vector of the rewards $[r_0, r_1, r_2, r_3, r_4, r_5, r_6]$\n",
    "    corresponding to the MDP.\n",
    "\n",
    "-   Your return value should be a value of $\\lambda$,\n",
    "    strictly less than 1, such that the expected value of the\n",
    "    $\\lambda$-return equals the expected Monte-Carlo return at time $t$.\n",
    "\n",
    "-   Your answer must be correct to $3$ decimal places, truncated (e.g.\n",
    "    3.14159265 becomes 3.141).\n",
    "\n",
    "## Resources\n",
    "\n",
    "The concepts explored in this homework are covered by:\n",
    "\n",
    "-   Lecture Lesson 3: TD and Friends\n",
    "\n",
    "-   Chapter 7 (7.1 $n$-step TD Prediction) and Chapter 12 (12.1 The\n",
    "    $\\lambda$-return) of\n",
    "    http://incompleteideas.net/book/the-book-2nd.html\n",
    "\n",
    "-   'Learning to Predict by the Method of Temporal Differences', R.\n",
    "    Sutton, 1988\n",
    "\n"
   ]
  },
  {
   "cell_type": "code",
   "execution_count": 1,
   "metadata": {},
   "outputs": [],
   "source": [
    "################\n",
    "# Versions\n",
    "# numpy==1.18.0\n",
    "################\n",
    "import numpy as np\n",
    "\n",
    "class TDAgent(object):\n",
    "    def __init__(self):\n",
    "        pass\n",
    "       \n",
    "    def get_expec_value(self):\n",
    "        expec_value = [0]* len(self.state_values)\n",
    "        expec_rewards = [0]* len(self.state_values)\n",
    "        one_minus_proba = 1-self.proba\n",
    "        # expec_value[0] = self.state_values[0]\n",
    "        expec_rewards[1] = self.proba * self.state_returns[0] + one_minus_proba * self.state_returns[1]\n",
    "        expec_value[1] = self.proba * self.state_values[1] + one_minus_proba * self.state_values[2] + expec_rewards[1]\n",
    "        expec_rewards[2] = self.proba*(self.state_returns[0] + self.state_returns[2]) + one_minus_proba * (self.state_returns[1]+self.state_returns[3])\n",
    "        expec_value[2] =  self.state_values[3] + expec_rewards[2]\n",
    "        for state_num in range(3 , 6): # from 3 to last state: 5\n",
    "            expec_rewards[state_num] =  expec_rewards[state_num -1] + self.state_returns[state_num + 1 ]\n",
    "            expec_value[state_num ] =  expec_rewards[state_num ] + self.state_values[state_num +1 ]\n",
    "        return expec_value\n",
    "\n",
    "    def get_error(self, lambda_value, expec_value):\n",
    "        error = 0\n",
    "        one_minus_lbd = 1 - lambda_value\n",
    "        for k in range(1,5): # from 1 to 4\n",
    "            error += lambda_value **(k - 1) * expec_value[k]\n",
    "        error = error *  one_minus_lbd\n",
    "        error += (lambda_value**4-1) * expec_value[5]\n",
    "        return error\n",
    "\n",
    "    def solve(self,p,V,rewards):\n",
    "        self.proba= p\n",
    "        self.state_values = V\n",
    "        self.state_returns= rewards\n",
    "        try_lambda = 0.5  # initial value of lambda\n",
    "        thera = 0.002\n",
    "        step = 0.1\n",
    "        expec_value = self.get_expec_value()\n",
    "        last_sign_dirt = 1\n",
    "        while True:\n",
    "            error_now = self.get_error( try_lambda,expec_value)\n",
    "            grat = (self.get_error(try_lambda + step,expec_value) - error_now)/step\n",
    "            sign_dirt = np.sign(grat) * np.sign(error_now)\n",
    "            if abs(error_now) < thera:\n",
    "                return np.round(try_lambda,3)\n",
    "            else:\n",
    "                if (sign_dirt != last_sign_dirt):\n",
    "                    step = 0.5 * step\n",
    "                try_lambda += -step* sign_dirt                  \n",
    "                last_sign_dirt = sign_dirt\n"
   ]
  },
  {
   "cell_type": "markdown",
   "metadata": {},
   "source": [
    "## Test cases\n",
    "\n",
    "We have provided some test cases for you to help verify your implementation."
   ]
  },
  {
   "cell_type": "code",
   "execution_count": 2,
   "metadata": {
    "tags": []
   },
   "outputs": [
    {
     "name": "stderr",
     "output_type": "stream",
     "text": [
      "test_case_1 (__main__.TestTDNotebook) ... ok\n",
      "test_case_2 (__main__.TestTDNotebook) ... ok\n",
      "test_case_3 (__main__.TestTDNotebook) ... ok\n",
      "\n",
      "----------------------------------------------------------------------\n",
      "Ran 3 tests in 0.010s\n",
      "\n",
      "OK\n"
     ]
    },
    {
     "data": {
      "text/plain": [
       "<unittest.main.TestProgram at 0x1c87ba05608>"
      ]
     },
     "execution_count": 2,
     "metadata": {},
     "output_type": "execute_result"
    }
   ],
   "source": [
    "## DO NOT MODIFY THIS CODE.  This code will ensure that your submission\n",
    "## will work proberly with the autograder\n",
    "\n",
    "import unittest\n",
    "\n",
    "class TestTDNotebook(unittest.TestCase):\n",
    "    def test_case_1(self):\n",
    "        agent = TDAgent()\n",
    "        np.testing.assert_almost_equal(\n",
    "            agent.solve(\n",
    "                p=0.81,\n",
    "                V=[0.0, 4.0, 25.7, 0.0, 20.1, 12.2, 0.0],\n",
    "                rewards=[7.9, -5.1, 2.5, -7.2, 9.0, 0.0, 1.6]\n",
    "            ),\n",
    "            0.622,\n",
    "            decimal=3\n",
    "        )\n",
    "        \n",
    "    def test_case_2(self):\n",
    "        agent = TDAgent()\n",
    "        np.testing.assert_almost_equal(\n",
    "            agent.solve(\n",
    "                p=0.22,\n",
    "                V=[12.3, -5.2, 0.0, 25.4, 10.6, 9.2, 0.0],\n",
    "                rewards=[-2.4, 0.8, 4.0, 2.5, 8.6, -6.4, 6.1]\n",
    "            ),\n",
    "            0.519,\n",
    "            decimal=3\n",
    "        )\n",
    "        \n",
    "    def test_case_3(self):\n",
    "        agent = TDAgent()\n",
    "\n",
    "        np.testing.assert_almost_equal(\n",
    "            agent.solve(\n",
    "                p=0.64,\n",
    "                V=[-6.5, 4.9, 7.8, -2.3, 25.5, -10.2, 0.0],\n",
    "                rewards=[-2.4, 9.6, -7.8, 0.1, 3.4, -2.1, 7.9]\n",
    "            ),\n",
    "            0.207,\n",
    "            decimal=3\n",
    "        )\n",
    "\n",
    "unittest.main(argv=[''], verbosity=2, exit=False)"
   ]
  },
  {
   "cell_type": "code",
   "execution_count": null,
   "metadata": {},
   "outputs": [],
   "source": []
  }
 ],
 "metadata": {
  "kernelspec": {
   "display_name": "Python 3",
   "language": "python",
   "name": "python3"
  },
  "language_info": {
   "codemirror_mode": {
    "name": "ipython",
    "version": 3
   },
   "file_extension": ".py",
   "mimetype": "text/x-python",
   "name": "python",
   "nbconvert_exporter": "python",
   "pygments_lexer": "ipython3",
   "version": "3.7.11"
  },
  "pycharm": {
   "stem_cell": {
    "cell_type": "raw",
    "metadata": {
     "collapsed": false
    },
    "source": []
   }
  }
 },
 "nbformat": 4,
 "nbformat_minor": 1
}
